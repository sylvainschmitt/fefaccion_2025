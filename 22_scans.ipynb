{
  "cells": [
    {
      "cell_type": "markdown",
      "metadata": {},
      "source": [
        "# Scans {.unnumbered}\n",
        "\n",
        "Scans treatment and cleaning.\n",
        "\n",
        "\n",
        "```{bash prep; eval=FALSE}\n",
        "cd\n",
        "```"
      ],
      "id": "dfc91100"
    }
  ],
  "metadata": {
    "kernelspec": {
      "display_name": "Python 3",
      "language": "python",
      "name": "python3"
    }
  },
  "nbformat": 4,
  "nbformat_minor": 5
}